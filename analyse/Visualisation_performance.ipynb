{
 "cells": [
  {
   "cell_type": "markdown",
   "metadata": {},
   "source": [
    "# Visualisation de la performance du correcteur orthographique"
   ]
  },
  {
   "cell_type": "code",
   "execution_count": 1,
   "metadata": {},
   "outputs": [],
   "source": [
    "import matplotlib\n",
    "import numpy as np\n",
    "import pandas as pd\n",
    "import matplotlib.cm as cm\n",
    "import matplotlib.pyplot as plt"
   ]
  },
  {
   "cell_type": "markdown",
   "metadata": {},
   "source": [
    "Decommenter la ligne suivante pour activer les graphiques interactifs."
   ]
  },
  {
   "cell_type": "code",
   "execution_count": 2,
   "metadata": {},
   "outputs": [],
   "source": [
    "%matplotlib widget"
   ]
  },
  {
   "cell_type": "markdown",
   "metadata": {},
   "source": [
    "## Données\n",
    "\n",
    "Ouverture du fichier CSV contenant les temps d'execution de nos correcteurs orthographiques."
   ]
  },
  {
   "cell_type": "code",
   "execution_count": 3,
   "metadata": {},
   "outputs": [
    {
     "data": {
      "text/html": [
       "<div>\n",
       "<style scoped>\n",
       "    .dataframe tbody tr th:only-of-type {\n",
       "        vertical-align: middle;\n",
       "    }\n",
       "\n",
       "    .dataframe tbody tr th {\n",
       "        vertical-align: top;\n",
       "    }\n",
       "\n",
       "    .dataframe thead th {\n",
       "        text-align: right;\n",
       "    }\n",
       "</style>\n",
       "<table border=\"1\" class=\"dataframe\">\n",
       "  <thead>\n",
       "    <tr style=\"text-align: right;\">\n",
       "      <th></th>\n",
       "      <th>seuil</th>\n",
       "      <th>taille_dictionnaire</th>\n",
       "      <th>longueur_mot</th>\n",
       "      <th>temps_execution</th>\n",
       "    </tr>\n",
       "  </thead>\n",
       "  <tbody>\n",
       "    <tr>\n",
       "      <th>0</th>\n",
       "      <td>4</td>\n",
       "      <td>29</td>\n",
       "      <td>10</td>\n",
       "      <td>0.005500</td>\n",
       "    </tr>\n",
       "    <tr>\n",
       "      <th>1</th>\n",
       "      <td>4</td>\n",
       "      <td>29</td>\n",
       "      <td>12</td>\n",
       "      <td>0.006517</td>\n",
       "    </tr>\n",
       "    <tr>\n",
       "      <th>2</th>\n",
       "      <td>4</td>\n",
       "      <td>29</td>\n",
       "      <td>6</td>\n",
       "      <td>0.003348</td>\n",
       "    </tr>\n",
       "    <tr>\n",
       "      <th>3</th>\n",
       "      <td>4</td>\n",
       "      <td>29</td>\n",
       "      <td>8</td>\n",
       "      <td>0.004290</td>\n",
       "    </tr>\n",
       "    <tr>\n",
       "      <th>4</th>\n",
       "      <td>4</td>\n",
       "      <td>29</td>\n",
       "      <td>6</td>\n",
       "      <td>0.003230</td>\n",
       "    </tr>\n",
       "  </tbody>\n",
       "</table>\n",
       "</div>"
      ],
      "text/plain": [
       "   seuil  taille_dictionnaire  longueur_mot  temps_execution\n",
       "0      4                   29            10         0.005500\n",
       "1      4                   29            12         0.006517\n",
       "2      4                   29             6         0.003348\n",
       "3      4                   29             8         0.004290\n",
       "4      4                   29             6         0.003230"
      ]
     },
     "execution_count": 3,
     "metadata": {},
     "output_type": "execute_result"
    }
   ],
   "source": [
    "data = pd.read_csv(\"fichier.csv\") \n",
    "# Visualisation des 5 permières lignes du fichier CSV\n",
    "data.head()"
   ]
  },
  {
   "cell_type": "markdown",
   "metadata": {},
   "source": [
    "### Longueur du mot recherché\n",
    "\n",
    "Etude de l'influence de la longueur d'un mot sur le temps d'execution requis pour trouver des mots similaires."
   ]
  },
  {
   "cell_type": "code",
   "execution_count": 7,
   "metadata": {},
   "outputs": [
    {
     "data": {
      "application/vnd.jupyter.widget-view+json": {
       "model_id": "4cc4b3c6b50941b196637aa297854132",
       "version_major": 2,
       "version_minor": 0
      },
      "text/plain": [
       "Canvas(toolbar=Toolbar(toolitems=[('Home', 'Reset original view', 'home', 'home'), ('Back', 'Back to previous …"
      ]
     },
     "metadata": {},
     "output_type": "display_data"
    },
    {
     "data": {
      "text/plain": [
       "Text(0, 0.5, \"temps d'execution [second]\")"
      ]
     },
     "execution_count": 7,
     "metadata": {},
     "output_type": "execute_result"
    }
   ],
   "source": [
    "fig = plt.figure()\n",
    "fig.suptitle('Influence de la longueur du mot sur le temps d\\'execution', fontsize=10)\n",
    "scatter = plt.scatter(data['longueur_mot'].values, data['temps_execution'].values)\n",
    "plt.xlabel('longueur du mot', fontsize=8)\n",
    "plt.ylabel('temps d\\'execution [second]', fontsize=8)"
   ]
  },
  {
   "cell_type": "markdown",
   "metadata": {},
   "source": [
    "### Longueur du seuil\n",
    "\n",
    "Etude du seuil utilisé sur le temps d'execution requis pour trouver des mots similaires par rapport à un mot donné."
   ]
  },
  {
   "cell_type": "code",
   "execution_count": 6,
   "metadata": {},
   "outputs": [
    {
     "data": {
      "application/vnd.jupyter.widget-view+json": {
       "model_id": "c8091752199b46fcac99511fc762540e",
       "version_major": 2,
       "version_minor": 0
      },
      "text/plain": [
       "Canvas(toolbar=Toolbar(toolitems=[('Home', 'Reset original view', 'home', 'home'), ('Back', 'Back to previous …"
      ]
     },
     "metadata": {},
     "output_type": "display_data"
    },
    {
     "data": {
      "text/plain": [
       "Text(0, 0.5, \"temps d'execution [second]\")"
      ]
     },
     "execution_count": 6,
     "metadata": {},
     "output_type": "execute_result"
    }
   ],
   "source": [
    "fig = plt.figure()\n",
    "fig.suptitle('Influence du seuil sur le temps d\\'execution', fontsize=10)\n",
    "scatter = plt.scatter(data['seuil'].values, data['temps_execution'].values)\n",
    "plt.xlabel('seuil', fontsize=8)\n",
    "plt.ylabel('temps d\\'execution [second]', fontsize=8)"
   ]
  },
  {
   "cell_type": "code",
   "execution_count": 5,
   "metadata": {},
   "outputs": [],
   "source": [
    "data = data.sort_values('longueur_mot')"
   ]
  },
  {
   "cell_type": "code",
   "execution_count": 25,
   "metadata": {},
   "outputs": [
    {
     "data": {
      "application/vnd.jupyter.widget-view+json": {
       "model_id": "ac34a7fd107942a7b2850b84d4afe987",
       "version_major": 2,
       "version_minor": 0
      },
      "text/plain": [
       "Canvas(toolbar=Toolbar(toolitems=[('Home', 'Reset original view', 'home', 'home'), ('Back', 'Back to previous …"
      ]
     },
     "metadata": {},
     "output_type": "display_data"
    }
   ],
   "source": [
    "fig = plt.figure()\n",
    "fig.suptitle('Influence du seuil et de la longueur du mot sur le temps d\\'execution', fontsize=10)\n",
    "\n",
    "ax = fig.gca(projection='3d')\n",
    "ax.set_xlabel('seuil', fontsize=8)\n",
    "ax.set_ylabel('longueur mot', fontsize=8)\n",
    "ax.set_zlabel('temps d\\'execution [secondes]', fontsize=8)\n",
    "\n",
    "#surf = ax.plot_surface( \\\n",
    "surf = ax.scatter(\n",
    "        data['seuil'].values.reshape(4, int(len(data['seuil'].values)/4)), \\\n",
    "                       data['longueur_mot'].values.reshape(4, int(len(data['longueur_mot'].values)/4)), \\\n",
    "                       data['temps_execution'].values.reshape(4, int(len(data['temps_execution'].values)/4)), \\\n",
    "                       cmap=cm.coolwarm,\n",
    "                       linewidth=0, antialiased=False)\n",
    "fig.colorbar(surf)\n",
    "\n",
    "plt.show()"
   ]
  },
  {
   "cell_type": "code",
   "execution_count": 21,
   "metadata": {},
   "outputs": [
    {
     "data": {
      "text/plain": [
       "array([[4, 4, 4, 4, 4, 4, 4, 4, 4, 4, 4, 4, 4, 4, 4, 4],\n",
       "       [3, 3, 3, 3, 3, 3, 3, 3, 3, 3, 3, 3, 3, 3, 3, 3],\n",
       "       [2, 2, 2, 2, 2, 2, 2, 2, 2, 2, 2, 2, 2, 2, 2, 2],\n",
       "       [1, 1, 1, 1, 1, 1, 1, 1, 1, 1, 1, 1, 1, 1, 1, 1]])"
      ]
     },
     "execution_count": 21,
     "metadata": {},
     "output_type": "execute_result"
    }
   ],
   "source": [
    "data['seuil'].values.reshape(4, int(len(data['seuil'].values)/4))"
   ]
  },
  {
   "cell_type": "code",
   "execution_count": 22,
   "metadata": {},
   "outputs": [
    {
     "data": {
      "text/plain": [
       "array([[10, 12,  6,  8,  6, 12,  6,  7, 12,  4, 10, 12,  6,  7,  7, 10],\n",
       "       [10, 12,  6,  8,  6, 12,  6,  7, 12,  4, 10, 12,  6,  7,  7, 10],\n",
       "       [10, 12,  6,  8,  6, 12,  6,  7, 12,  4, 10, 12,  6,  7,  7, 10],\n",
       "       [10, 12,  6,  8,  6, 12,  6,  7, 12,  4, 10, 12,  6,  7,  7, 10]])"
      ]
     },
     "execution_count": 22,
     "metadata": {},
     "output_type": "execute_result"
    }
   ],
   "source": [
    "data['longueur_mot'].values.reshape(4, int(len(data['longueur_mot'].values)/4))"
   ]
  },
  {
   "cell_type": "code",
   "execution_count": 23,
   "metadata": {},
   "outputs": [
    {
     "data": {
      "text/plain": [
       "array([[0.00550032, 0.00651693, 0.00334811, 0.0042901 , 0.00323009,\n",
       "        0.00668001, 0.00330091, 0.00388122, 0.00679326, 0.00237584,\n",
       "        0.00542998, 0.00640583, 0.00334811, 0.00385118, 0.00386   ,\n",
       "        0.00542903],\n",
       "       [0.00557089, 0.00627565, 0.0032692 , 0.00444794, 0.00332594,\n",
       "        0.00677609, 0.003232  , 0.00379896, 0.0068469 , 0.00223899,\n",
       "        0.00539804, 0.00641418, 0.00329018, 0.00390697, 0.00376797,\n",
       "        0.00555515],\n",
       "       [0.00554705, 0.00636411, 0.00326729, 0.0041821 , 0.003196  ,\n",
       "        0.00634408, 0.003268  , 0.0037303 , 0.00630689, 0.00221705,\n",
       "        0.00538898, 0.0064292 , 0.00340295, 0.00406718, 0.00376964,\n",
       "        0.00557494],\n",
       "       [0.00535893, 0.00620604, 0.00313711, 0.00450301, 0.00344706,\n",
       "        0.00648022, 0.00312281, 0.00475121, 0.00667715, 0.00213814,\n",
       "        0.00561786, 0.00624514, 0.00328493, 0.00372195, 0.00370407,\n",
       "        0.00524211]])"
      ]
     },
     "execution_count": 23,
     "metadata": {},
     "output_type": "execute_result"
    }
   ],
   "source": [
    "data['temps_execution'].values.reshape(4, int(len(data['temps_execution'].values)/4))"
   ]
  },
  {
   "cell_type": "code",
   "execution_count": null,
   "metadata": {},
   "outputs": [],
   "source": []
  }
 ],
 "metadata": {
  "kernelspec": {
   "display_name": "Python 3",
   "language": "python",
   "name": "python3"
  },
  "language_info": {
   "codemirror_mode": {
    "name": "ipython",
    "version": 3
   },
   "file_extension": ".py",
   "mimetype": "text/x-python",
   "name": "python",
   "nbconvert_exporter": "python",
   "pygments_lexer": "ipython3",
   "version": "3.7.7"
  }
 },
 "nbformat": 4,
 "nbformat_minor": 4
}
